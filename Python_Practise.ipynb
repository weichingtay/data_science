{
  "nbformat": 4,
  "nbformat_minor": 0,
  "metadata": {
    "colab": {
      "name": "Python Practise.ipynb",
      "provenance": [],
      "authorship_tag": "ABX9TyPh4Nof3Ffd1mMOH8sXdH/G",
      "include_colab_link": true
    },
    "kernelspec": {
      "name": "python3",
      "display_name": "Python 3"
    },
    "language_info": {
      "name": "python"
    }
  },
  "cells": [
    {
      "cell_type": "markdown",
      "metadata": {
        "id": "view-in-github",
        "colab_type": "text"
      },
      "source": [
        "<a href=\"https://colab.research.google.com/github/weichingtay/data_science/blob/main/Python_Practise.ipynb\" target=\"_parent\"><img src=\"https://colab.research.google.com/assets/colab-badge.svg\" alt=\"Open In Colab\"/></a>"
      ]
    },
    {
      "cell_type": "code",
      "metadata": {
        "colab": {
          "base_uri": "https://localhost:8080/"
        },
        "id": "dgYeeJmKpoNT",
        "outputId": "2fb1d298-cfd0-45d1-9721-c8c328514056"
      },
      "source": [
        "# words that have exactly 3 characters\n",
        "string = 'The quick brown fix jumps over the lazy dog'\n",
        "three = [word for word in string.split() if len(word) == 3]\n",
        "print(three)     "
      ],
      "execution_count": null,
      "outputs": [
        {
          "output_type": "stream",
          "text": [
            "['The', 'fix', 'the', 'dog']\n"
          ],
          "name": "stdout"
        }
      ]
    },
    {
      "cell_type": "code",
      "metadata": {
        "colab": {
          "base_uri": "https://localhost:8080/"
        },
        "id": "SltWZRjzvrD7",
        "outputId": "22fc63d3-bc3f-42a5-fa0c-891ed49a0741"
      },
      "source": [
        "# words that have more than 3 characters\n",
        "over_three = [word for word in string.split() if len(word) > 3]\n",
        "print(over_three)  "
      ],
      "execution_count": null,
      "outputs": [
        {
          "output_type": "stream",
          "text": [
            "['quick', 'brown', 'jumps', 'over', 'lazy']\n"
          ],
          "name": "stdout"
        }
      ]
    },
    {
      "cell_type": "code",
      "metadata": {
        "colab": {
          "base_uri": "https://localhost:8080/"
        },
        "id": "OJwd76On8Ww5",
        "outputId": "49c42d65-e3aa-4a20-971b-505c1efd3e2b"
      },
      "source": [
        "# words that start with vowel (aeiou)\n",
        "vowel = [word for word in string.split() if word[0] in \"aeiou\"]\n",
        "print(vowel)"
      ],
      "execution_count": null,
      "outputs": [
        {
          "output_type": "stream",
          "text": [
            "['over']\n"
          ],
          "name": "stdout"
        }
      ]
    }
  ]
}