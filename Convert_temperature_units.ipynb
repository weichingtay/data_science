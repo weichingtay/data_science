{
  "nbformat": 4,
  "nbformat_minor": 0,
  "metadata": {
    "colab": {
      "name": "Convert temperature units.ipynb",
      "provenance": [],
      "authorship_tag": "ABX9TyOVyRXyGQCrhwU+Per4nGTt",
      "include_colab_link": true
    },
    "kernelspec": {
      "name": "python3",
      "display_name": "Python 3"
    },
    "language_info": {
      "name": "python"
    }
  },
  "cells": [
    {
      "cell_type": "markdown",
      "metadata": {
        "id": "view-in-github",
        "colab_type": "text"
      },
      "source": [
        "<a href=\"https://colab.research.google.com/github/weichingtay/data_science/blob/main/Convert_temperature_units.ipynb\" target=\"_parent\"><img src=\"https://colab.research.google.com/assets/colab-badge.svg\" alt=\"Open In Colab\"/></a>"
      ]
    },
    {
      "cell_type": "code",
      "metadata": {
        "colab": {
          "base_uri": "https://localhost:8080/"
        },
        "id": "DBciYXOMWg1K",
        "outputId": "c7d04c1d-2cab-4270-8a23-8d988e899dc6"
      },
      "source": [
        "#Convert temperature units\n",
        "\n",
        "temp=input (\"What is the temperature?\")\n",
        "unit=temp[-1]\n",
        "temp=int(temp [:-1])\n",
        "if unit == \"c\":\n",
        "   result = temp * 9/5 + 32\n",
        "   print(f\"{temp} degree Celcius = {result:.2f} degree Fahrenheit\")\n",
        "elif unit == \"f\":\n",
        "  result = (temp-32) * 9/5\n",
        "  print(f\"{temp} degree Fahrenheit = {result:.2f} degree Celcius\")\n",
        "else:\n",
        "  print (\"Input proper unit.\") "
      ],
      "execution_count": 4,
      "outputs": [
        {
          "output_type": "stream",
          "text": [
            "What is the temperature?30f\n",
            "30 degree Fahrenheit = -3.60 degree Celcius\n"
          ],
          "name": "stdout"
        }
      ]
    }
  ]
}